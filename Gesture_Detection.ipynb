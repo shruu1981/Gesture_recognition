{
 "cells": [
  {
   "cell_type": "code",
   "execution_count": null,
   "id": "ae589fa9",
   "metadata": {},
   "outputs": [],
   "source": [
    "import cv2\n",
    "import mediapipe as mp\n",
    "\n",
    "def detect_gesture(test_video_path, gesture_image_path):\n",
    "\n",
    "    mp_hands = mp.solutions.hands\n",
    "    hands = mp_hands.Hands(static_image_mode=False, max_num_hands=1)\n",
    "\n",
    "    gesture_image = cv2.imread(gesture_image_path, cv2.IMREAD_COLOR)\n",
    "\n",
    "    # Load test video\n",
    "    cap = cv2.VideoCapture(test_video_path)\n",
    "    fps = int(cap.get(cv2.CAP_PROP_FPS))\n",
    "    width = int(cap.get(cv2.CAP_PROP_FRAME_WIDTH))\n",
    "    height = int(cap.get(cv2.CAP_PROP_FRAME_HEIGHT))\n",
    "    \n",
    "    font = cv2.FONT_HERSHEY_SIMPLEX\n",
    "    font_scale = 1\n",
    "    font_color = (0, 255, 0)  # Bright green\n",
    "    thickness = 2\n",
    "    \n",
    "    while cap.isOpened():\n",
    "        ret, frame = cap.read()\n",
    "        if not ret:\n",
    "            break\n",
    "        rgb_frame = cv2.cvtColor(frame, cv2.COLOR_BGR2RGB)\n",
    "        results = hands.process(rgb_frame)\n",
    "\n",
    "\n",
    "        if results.multi_hand_landmarks:\n",
    "\n",
    "            print(results.multi_hand_landmarks)\n",
    "            print(\"detected\")\n",
    "            \n",
    "            cv2.imshow('a',cv2.resize(frame,(300,300)))\n",
    "            cv2.putText(frame, 'DETECTED', (width - 200, 50), font, font_scale, font_color, thickness, cv2.LINE_AA)\n",
    "\n",
    "        cv2.imshow('Frame', cv2.resize(frame,(300,300)))\n",
    "        if cv2.waitKey(1) & 0xFF == ord('q'):\n",
    "            break\n",
    "\n",
    "    cap.release()\n",
    "    cv2.destroyAllWindows()\n",
    "\n",
    "test_video_path = 'Downloads/gesture_video.mp4'\n",
    "gesture_image_path = 'Downloads/jpg2png/okay_gesture.png'\n",
    "detect_gesture(test_video_path, gesture_image_path)"
   ]
  },
  {
   "cell_type": "code",
   "execution_count": null,
   "id": "e03f8025",
   "metadata": {},
   "outputs": [],
   "source": [
    "!pip install mediapipe"
   ]
  }
 ],
 "metadata": {
  "kernelspec": {
   "display_name": "Python 3 (ipykernel)",
   "language": "python",
   "name": "python3"
  },
  "language_info": {
   "codemirror_mode": {
    "name": "ipython",
    "version": 3
   },
   "file_extension": ".py",
   "mimetype": "text/x-python",
   "name": "python",
   "nbconvert_exporter": "python",
   "pygments_lexer": "ipython3",
   "version": "3.10.9"
  }
 },
 "nbformat": 4,
 "nbformat_minor": 5
}
